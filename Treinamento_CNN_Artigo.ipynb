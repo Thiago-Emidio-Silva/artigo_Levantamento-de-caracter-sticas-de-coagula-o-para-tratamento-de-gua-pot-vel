{
  "nbformat": 4,
  "nbformat_minor": 0,
  "metadata": {
    "colab": {
      "provenance": [],
      "gpuType": "T4",
      "mount_file_id": "1cnVSGMpoWqe8KP-kq_YhQARX9kK7udQf",
      "authorship_tag": "ABX9TyMubRTwRtbOaQi+GcOUctiF",
      "include_colab_link": true
    },
    "kernelspec": {
      "name": "python3",
      "display_name": "Python 3"
    },
    "language_info": {
      "name": "python"
    },
    "accelerator": "GPU"
  },
  "cells": [
    {
      "cell_type": "markdown",
      "metadata": {
        "id": "view-in-github",
        "colab_type": "text"
      },
      "source": [
        "<a href=\"https://colab.research.google.com/github/Thiago-Emidio-Silva/artigo_Levantamento-de-caracter-sticas-de-coagula-o-para-tratamento-de-gua-pot-vel/blob/main/Treinamento_CNN_Artigo.ipynb\" target=\"_parent\"><img src=\"https://colab.research.google.com/assets/colab-badge.svg\" alt=\"Open In Colab\"/></a>"
      ]
    },
    {
      "cell_type": "markdown",
      "source": [
        "# **Levantamento de características de coagulação para tratamento de água potável**\n",
        "\n",
        "Thiago Emidio da Silva – 118772\n",
        "Departamento de Engenharia Elétrica – Especialização em Inteligência Artificial e Computacional\n",
        "Universidade Federal de Viçosa. Viçosa – MG -- Thiago.emidio@ufv.br\n"
      ],
      "metadata": {
        "id": "VjzDYKkKzq6q"
      }
    },
    {
      "cell_type": "markdown",
      "source": [
        "VAMOS CARREGAR AS BIBLIOTECAS NECESSÁRIAS PARA NOSSA APLICAÇÃO DE TREINAMENTO DO MODELO"
      ],
      "metadata": {
        "id": "w4Vq-nK_LYDw"
      }
    },
    {
      "cell_type": "code",
      "source": [
        "#!pip install tensorflow --upgrade\n"
      ],
      "metadata": {
        "id": "AP_bt5_02qfu"
      },
      "execution_count": 1,
      "outputs": []
    },
    {
      "cell_type": "code",
      "execution_count": 2,
      "metadata": {
        "id": "_YWNYcMPzdKR",
        "colab": {
          "base_uri": "https://localhost:8080/"
        },
        "outputId": "7ae1e676-a0f0-403f-f7ba-4f43ad5cb98d"
      },
      "outputs": [
        {
          "output_type": "stream",
          "name": "stdout",
          "text": [
            "Drive already mounted at /content/drive; to attempt to forcibly remount, call drive.mount(\"/content/drive\", force_remount=True).\n"
          ]
        }
      ],
      "source": [
        "#Permição para acessar o google drive se necessário\n",
        "from google.colab import drive\n",
        "drive.mount('/content/drive')\n",
        "\n",
        "#Carregar as bibliotecas necessarias\n",
        "import numpy as np\n",
        "import pandas as pd\n",
        "import tensorflow as tf\n",
        "import matplotlib.pyplot as plt\n",
        "import seaborn as sns\n",
        "import cv2\n",
        "from google.colab.patches import cv2_imshow\n",
        "import os\n",
        "from skimage.io import imread, imshow\n",
        "from scipy import stats\n",
        "from google.colab import output\n",
        "from IPython.display import display, HTML, clear_output\n",
        "from tensorflow.keras.preprocessing import image\n",
        "from tensorflow.keras.applications.resnet50 import ResNet50, preprocess_input, decode_predictions\n",
        "from tensorflow.keras.models import Sequential\n",
        "from tensorflow.keras.layers import Dense, Dropout, Flatten, Conv2D, UpSampling2D, Conv2DTranspose\n",
        "from tensorflow.keras.optimizers import Adam\n",
        "from sklearn.model_selection import train_test_split\n",
        "from tensorflow.keras.losses import SparseCategoricalCrossentropy\n",
        "\n",
        "#from tensorflow_examples.models.pix2pix import pix2pix\n",
        "\n"
      ]
    },
    {
      "cell_type": "markdown",
      "source": [
        "VAMOS DEFINIR AS PROPRIEDADES DAS IMAGENS\n"
      ],
      "metadata": {
        "id": "zPVDLxN_YJDR"
      }
    },
    {
      "cell_type": "code",
      "source": [
        "#Vamos ler a imagem\n",
        "\n",
        "# Caminho da pasta de imagens no Google Drive ou local do Colab\n",
        "pasta_imagens_train = '/content/drive/MyDrive/img_floc_256/train/'\n",
        "pasta_imagens_test = '/content/drive/MyDrive/img_floc_256/test/'\n",
        "\n",
        "imagemSize = (256, 256)\n",
        "bathSize = 32"
      ],
      "metadata": {
        "id": "GJA2YLclYNmt"
      },
      "execution_count": 3,
      "outputs": []
    },
    {
      "cell_type": "code",
      "source": [
        "# Função de normalização e codificação\n",
        "def normalizar(input_imagem, input_mask, num_classes=3):\n",
        "    # Normalizar imagem de entrada para o intervalo [0, 1]\n",
        "    input_imagem = tf.cast(input_imagem, tf.float32) / 255.0\n",
        "\n",
        "    # Ajustar máscara para ter valores de classe entre 0 e num_classes-1\n",
        "    input_mask = cv2.cvtColor(input_mask, cv2.COLOR_BGR2GRAY)  # Converte para escala de cinza\n",
        "    input_mask = input_mask // (255 // (num_classes - 1))  # Ajusta valores para 0, 1, 2 (exemplo com 3 classes)\n",
        "\n",
        "    #input_mask = input_mask.astype(np.int32)  # Ajuste para valores entre 0 e 2\n",
        "\n",
        "    # Converte máscara para codificação one-hot\n",
        "    #input_mask = tf.one_hot(input_mask, depth=num_classes)\n",
        "\n",
        "    return input_imagem, input_mask\n",
        "\n",
        "# Função para carregar a imagem\n",
        "def load_imagem(pasta_imagens_train, nome_arquivo, imagemSize):\n",
        "    caminho_imagem = os.path.join(pasta_imagens_train, f\"{nome_arquivo}.jpeg\")\n",
        "    input_imagem = cv2.imread(caminho_imagem, cv2.IMREAD_COLOR)\n",
        "    input_imagem = cv2.resize(input_imagem, imagemSize)\n",
        "\n",
        "    caminho_mask = os.path.join(pasta_imagens_train, f\"{nome_arquivo}.png\")\n",
        "    input_mask = cv2.imread(caminho_mask, cv2.IMREAD_COLOR)\n",
        "    input_mask = cv2.resize(input_mask, imagemSize)\n",
        "\n",
        "    return input_imagem, input_mask\n",
        "\n",
        "# Função para carregar o dataset\n",
        "def load_dataset(pasta_imagens_train, imagemSize, num_classes=3):\n",
        "    dataset = []\n",
        "\n",
        "    arquivos = os.listdir(pasta_imagens_train)\n",
        "    nomes_imagens = [f.split(\".\")[0] for f in arquivos if f.endswith(\".jpeg\")]\n",
        "\n",
        "    for nome_arquivo in nomes_imagens:\n",
        "        input_imagem, input_mask = load_imagem(pasta_imagens_train, nome_arquivo, imagemSize)\n",
        "        input_imagem, input_mask = normalizar(input_imagem, input_mask, num_classes=num_classes)\n",
        "        dataset.append((input_imagem, input_mask))\n",
        "\n",
        "    return dataset\n",
        "\n",
        "# Listar arquivos de imagem\n",
        "arquivos = [f for f in os.listdir(pasta_imagens_train) if f.lower().endswith(('.jpeg'))]\n",
        "indice_atual = 0  # Iniciar o índice da primeira imagem\n",
        "\n",
        "# Carregar dataset\n",
        "dataset = load_dataset(pasta_imagens_train, imagemSize)\n",
        "\n",
        "# Dividir dados em treino e validação\n",
        "input_imagens, input_masks = zip(*dataset)\n",
        "x_train, x_val, y_train, y_val = train_test_split(input_imagens, input_masks, test_size=0.2, random_state=42)\n",
        "\n",
        "# Converter para arrays numpy\n",
        "x_train = np.array(x_train)\n",
        "x_val = np.array(x_val)\n",
        "y_train = np.array(y_train)\n",
        "y_val = np.array(y_val)\n",
        "\n",
        "print(\"Formato x_train:\", x_train.shape)  # Esperado: (N, 256, 256, 3)\n",
        "print(\"Formato y_train:\", y_train.shape)  # Esperado: (N, 256, 256, 3) para cada classe\n"
      ],
      "metadata": {
        "id": "m3WBWK6O-Kc5",
        "colab": {
          "base_uri": "https://localhost:8080/"
        },
        "outputId": "d6f84f1b-e046-4d3f-e2c6-bed2a5cfb507"
      },
      "execution_count": 20,
      "outputs": [
        {
          "output_type": "stream",
          "name": "stdout",
          "text": [
            "Formato x_train: (240, 256, 256, 3)\n",
            "Formato y_train: (240, 256, 256)\n"
          ]
        }
      ]
    },
    {
      "cell_type": "markdown",
      "source": [
        "VAMOS DIVIDIR NOSSO DATASET DE TREINO EM TREINAMENTO E VALIDAÇÃO"
      ],
      "metadata": {
        "id": "hcyNVjjvCA6N"
      }
    },
    {
      "cell_type": "markdown",
      "source": [
        "VAMOS CARREGAR O MODELO RESNET50 PRÉ TREINADO"
      ],
      "metadata": {
        "id": "nZTz-G6X3M0j"
      }
    },
    {
      "cell_type": "code",
      "source": [
        "#Vamos carregar o modelo pré treinado com imagenet\n",
        "pre_model = ResNet50(weights='imagenet', include_top=False, input_shape=(256, 256, 3))\n",
        "\n",
        "#Definimos que as camadas do modelo pré treinado não sejam alteradas durante o treino\n",
        "for layer in pre_model.layers:\n",
        "    layer.trainable = False"
      ],
      "metadata": {
        "id": "-nx0qGMa3Ler"
      },
      "execution_count": 21,
      "outputs": []
    },
    {
      "cell_type": "markdown",
      "source": [
        "VAMOS DEFINIR O MODELO SEQUENCIAL ONDE TEREMOS O MODELO PRÉTREINADO SEQUIDO DAS NOVAS CAMADAS"
      ],
      "metadata": {
        "id": "iDtKpkoX55TR"
      }
    },
    {
      "cell_type": "code",
      "source": [
        "# Definição do modelo do tipo sequencial\n",
        "model = Sequential()\n",
        "\n",
        "# Adicionando o modelo pré-treinado na primeira camada (como extrator de features)\n",
        "model.add(pre_model)\n",
        "\n",
        "# Adicionando camadas convolucionais para segmentação\n",
        "model.add(Conv2D(256, (3, 3), activation='relu', padding = 'same'))  # Manter dimensões\n",
        "model.add(Dropout(0.2))\n",
        "\n",
        "model.add(Conv2D(128, (3, 3), activation='relu'))\n",
        "model.add(Dropout(0.2))\n",
        "\n",
        "model.add(Conv2D(64, (3, 3), activation='relu'))\n",
        "model.add(Dropout(0.2))\n",
        "\n",
        "# Camada final com 3 canais para a segmentação de 3 classes, ativação softmax\n",
        "model.add(Conv2D(3, (1, 1), activation='softmax', padding='same'))\n",
        "\n",
        "# Em vez de UpSampling2D, você pode adicionar camadas Conv2DTranspose como abaixo\n",
        "model.add(Conv2DTranspose(128, (3, 3), strides=(2, 2), padding='same', activation='relu'))\n",
        "model.add(Conv2DTranspose(64, (3, 3), strides=(2, 2), padding='same', activation='relu'))\n",
        "model.add(Conv2DTranspose(32, (3, 3), strides=(2, 2), padding='same', activation='relu'))\n",
        "model.add(Conv2DTranspose(16, (3, 3), strides=(2, 2), padding='same', activation='relu'))\n",
        "model.add(Conv2DTranspose(8, (3, 3), strides=(2, 2), padding='same', activation='relu'))\n",
        "model.add(Conv2DTranspose(3, (3, 3), strides=(2, 2), padding='same', activation='relu'))\n",
        "\n",
        "# Resumo do modelo\n",
        "model.summary()"
      ],
      "metadata": {
        "colab": {
          "base_uri": "https://localhost:8080/",
          "height": 673
        },
        "id": "La3us1cd54sf",
        "outputId": "a882c6b7-bbb3-4923-b53c-f1db01648bee"
      },
      "execution_count": 22,
      "outputs": [
        {
          "output_type": "display_data",
          "data": {
            "text/plain": [
              "\u001b[1mModel: \"sequential_4\"\u001b[0m\n"
            ],
            "text/html": [
              "<pre style=\"white-space:pre;overflow-x:auto;line-height:normal;font-family:Menlo,'DejaVu Sans Mono',consolas,'Courier New',monospace\"><span style=\"font-weight: bold\">Model: \"sequential_4\"</span>\n",
              "</pre>\n"
            ]
          },
          "metadata": {}
        },
        {
          "output_type": "display_data",
          "data": {
            "text/plain": [
              "┏━━━━━━━━━━━━━━━━━━━━━━━━━━━━━━━━━━━━━━┳━━━━━━━━━━━━━━━━━━━━━━━━━━━━━┳━━━━━━━━━━━━━━━━━┓\n",
              "┃\u001b[1m \u001b[0m\u001b[1mLayer (type)                        \u001b[0m\u001b[1m \u001b[0m┃\u001b[1m \u001b[0m\u001b[1mOutput Shape               \u001b[0m\u001b[1m \u001b[0m┃\u001b[1m \u001b[0m\u001b[1m        Param #\u001b[0m\u001b[1m \u001b[0m┃\n",
              "┡━━━━━━━━━━━━━━━━━━━━━━━━━━━━━━━━━━━━━━╇━━━━━━━━━━━━━━━━━━━━━━━━━━━━━╇━━━━━━━━━━━━━━━━━┩\n",
              "│ resnet50 (\u001b[38;5;33mFunctional\u001b[0m)                │ (\u001b[38;5;45mNone\u001b[0m, \u001b[38;5;34m8\u001b[0m, \u001b[38;5;34m8\u001b[0m, \u001b[38;5;34m2048\u001b[0m)          │      \u001b[38;5;34m23,587,712\u001b[0m │\n",
              "├──────────────────────────────────────┼─────────────────────────────┼─────────────────┤\n",
              "│ conv2d_16 (\u001b[38;5;33mConv2D\u001b[0m)                   │ (\u001b[38;5;45mNone\u001b[0m, \u001b[38;5;34m8\u001b[0m, \u001b[38;5;34m8\u001b[0m, \u001b[38;5;34m256\u001b[0m)           │       \u001b[38;5;34m4,718,848\u001b[0m │\n",
              "├──────────────────────────────────────┼─────────────────────────────┼─────────────────┤\n",
              "│ dropout_12 (\u001b[38;5;33mDropout\u001b[0m)                 │ (\u001b[38;5;45mNone\u001b[0m, \u001b[38;5;34m8\u001b[0m, \u001b[38;5;34m8\u001b[0m, \u001b[38;5;34m256\u001b[0m)           │               \u001b[38;5;34m0\u001b[0m │\n",
              "├──────────────────────────────────────┼─────────────────────────────┼─────────────────┤\n",
              "│ conv2d_17 (\u001b[38;5;33mConv2D\u001b[0m)                   │ (\u001b[38;5;45mNone\u001b[0m, \u001b[38;5;34m6\u001b[0m, \u001b[38;5;34m6\u001b[0m, \u001b[38;5;34m128\u001b[0m)           │         \u001b[38;5;34m295,040\u001b[0m │\n",
              "├──────────────────────────────────────┼─────────────────────────────┼─────────────────┤\n",
              "│ dropout_13 (\u001b[38;5;33mDropout\u001b[0m)                 │ (\u001b[38;5;45mNone\u001b[0m, \u001b[38;5;34m6\u001b[0m, \u001b[38;5;34m6\u001b[0m, \u001b[38;5;34m128\u001b[0m)           │               \u001b[38;5;34m0\u001b[0m │\n",
              "├──────────────────────────────────────┼─────────────────────────────┼─────────────────┤\n",
              "│ conv2d_18 (\u001b[38;5;33mConv2D\u001b[0m)                   │ (\u001b[38;5;45mNone\u001b[0m, \u001b[38;5;34m4\u001b[0m, \u001b[38;5;34m4\u001b[0m, \u001b[38;5;34m64\u001b[0m)            │          \u001b[38;5;34m73,792\u001b[0m │\n",
              "├──────────────────────────────────────┼─────────────────────────────┼─────────────────┤\n",
              "│ dropout_14 (\u001b[38;5;33mDropout\u001b[0m)                 │ (\u001b[38;5;45mNone\u001b[0m, \u001b[38;5;34m4\u001b[0m, \u001b[38;5;34m4\u001b[0m, \u001b[38;5;34m64\u001b[0m)            │               \u001b[38;5;34m0\u001b[0m │\n",
              "├──────────────────────────────────────┼─────────────────────────────┼─────────────────┤\n",
              "│ conv2d_19 (\u001b[38;5;33mConv2D\u001b[0m)                   │ (\u001b[38;5;45mNone\u001b[0m, \u001b[38;5;34m4\u001b[0m, \u001b[38;5;34m4\u001b[0m, \u001b[38;5;34m3\u001b[0m)             │             \u001b[38;5;34m195\u001b[0m │\n",
              "├──────────────────────────────────────┼─────────────────────────────┼─────────────────┤\n",
              "│ conv2d_transpose_24                  │ (\u001b[38;5;45mNone\u001b[0m, \u001b[38;5;34m8\u001b[0m, \u001b[38;5;34m8\u001b[0m, \u001b[38;5;34m128\u001b[0m)           │           \u001b[38;5;34m3,584\u001b[0m │\n",
              "│ (\u001b[38;5;33mConv2DTranspose\u001b[0m)                    │                             │                 │\n",
              "├──────────────────────────────────────┼─────────────────────────────┼─────────────────┤\n",
              "│ conv2d_transpose_25                  │ (\u001b[38;5;45mNone\u001b[0m, \u001b[38;5;34m16\u001b[0m, \u001b[38;5;34m16\u001b[0m, \u001b[38;5;34m64\u001b[0m)          │          \u001b[38;5;34m73,792\u001b[0m │\n",
              "│ (\u001b[38;5;33mConv2DTranspose\u001b[0m)                    │                             │                 │\n",
              "├──────────────────────────────────────┼─────────────────────────────┼─────────────────┤\n",
              "│ conv2d_transpose_26                  │ (\u001b[38;5;45mNone\u001b[0m, \u001b[38;5;34m32\u001b[0m, \u001b[38;5;34m32\u001b[0m, \u001b[38;5;34m32\u001b[0m)          │          \u001b[38;5;34m18,464\u001b[0m │\n",
              "│ (\u001b[38;5;33mConv2DTranspose\u001b[0m)                    │                             │                 │\n",
              "├──────────────────────────────────────┼─────────────────────────────┼─────────────────┤\n",
              "│ conv2d_transpose_27                  │ (\u001b[38;5;45mNone\u001b[0m, \u001b[38;5;34m64\u001b[0m, \u001b[38;5;34m64\u001b[0m, \u001b[38;5;34m16\u001b[0m)          │           \u001b[38;5;34m4,624\u001b[0m │\n",
              "│ (\u001b[38;5;33mConv2DTranspose\u001b[0m)                    │                             │                 │\n",
              "├──────────────────────────────────────┼─────────────────────────────┼─────────────────┤\n",
              "│ conv2d_transpose_28                  │ (\u001b[38;5;45mNone\u001b[0m, \u001b[38;5;34m128\u001b[0m, \u001b[38;5;34m128\u001b[0m, \u001b[38;5;34m8\u001b[0m)         │           \u001b[38;5;34m1,160\u001b[0m │\n",
              "│ (\u001b[38;5;33mConv2DTranspose\u001b[0m)                    │                             │                 │\n",
              "├──────────────────────────────────────┼─────────────────────────────┼─────────────────┤\n",
              "│ conv2d_transpose_29                  │ (\u001b[38;5;45mNone\u001b[0m, \u001b[38;5;34m256\u001b[0m, \u001b[38;5;34m256\u001b[0m, \u001b[38;5;34m3\u001b[0m)         │             \u001b[38;5;34m219\u001b[0m │\n",
              "│ (\u001b[38;5;33mConv2DTranspose\u001b[0m)                    │                             │                 │\n",
              "└──────────────────────────────────────┴─────────────────────────────┴─────────────────┘\n"
            ],
            "text/html": [
              "<pre style=\"white-space:pre;overflow-x:auto;line-height:normal;font-family:Menlo,'DejaVu Sans Mono',consolas,'Courier New',monospace\">┏━━━━━━━━━━━━━━━━━━━━━━━━━━━━━━━━━━━━━━┳━━━━━━━━━━━━━━━━━━━━━━━━━━━━━┳━━━━━━━━━━━━━━━━━┓\n",
              "┃<span style=\"font-weight: bold\"> Layer (type)                         </span>┃<span style=\"font-weight: bold\"> Output Shape                </span>┃<span style=\"font-weight: bold\">         Param # </span>┃\n",
              "┡━━━━━━━━━━━━━━━━━━━━━━━━━━━━━━━━━━━━━━╇━━━━━━━━━━━━━━━━━━━━━━━━━━━━━╇━━━━━━━━━━━━━━━━━┩\n",
              "│ resnet50 (<span style=\"color: #0087ff; text-decoration-color: #0087ff\">Functional</span>)                │ (<span style=\"color: #00d7ff; text-decoration-color: #00d7ff\">None</span>, <span style=\"color: #00af00; text-decoration-color: #00af00\">8</span>, <span style=\"color: #00af00; text-decoration-color: #00af00\">8</span>, <span style=\"color: #00af00; text-decoration-color: #00af00\">2048</span>)          │      <span style=\"color: #00af00; text-decoration-color: #00af00\">23,587,712</span> │\n",
              "├──────────────────────────────────────┼─────────────────────────────┼─────────────────┤\n",
              "│ conv2d_16 (<span style=\"color: #0087ff; text-decoration-color: #0087ff\">Conv2D</span>)                   │ (<span style=\"color: #00d7ff; text-decoration-color: #00d7ff\">None</span>, <span style=\"color: #00af00; text-decoration-color: #00af00\">8</span>, <span style=\"color: #00af00; text-decoration-color: #00af00\">8</span>, <span style=\"color: #00af00; text-decoration-color: #00af00\">256</span>)           │       <span style=\"color: #00af00; text-decoration-color: #00af00\">4,718,848</span> │\n",
              "├──────────────────────────────────────┼─────────────────────────────┼─────────────────┤\n",
              "│ dropout_12 (<span style=\"color: #0087ff; text-decoration-color: #0087ff\">Dropout</span>)                 │ (<span style=\"color: #00d7ff; text-decoration-color: #00d7ff\">None</span>, <span style=\"color: #00af00; text-decoration-color: #00af00\">8</span>, <span style=\"color: #00af00; text-decoration-color: #00af00\">8</span>, <span style=\"color: #00af00; text-decoration-color: #00af00\">256</span>)           │               <span style=\"color: #00af00; text-decoration-color: #00af00\">0</span> │\n",
              "├──────────────────────────────────────┼─────────────────────────────┼─────────────────┤\n",
              "│ conv2d_17 (<span style=\"color: #0087ff; text-decoration-color: #0087ff\">Conv2D</span>)                   │ (<span style=\"color: #00d7ff; text-decoration-color: #00d7ff\">None</span>, <span style=\"color: #00af00; text-decoration-color: #00af00\">6</span>, <span style=\"color: #00af00; text-decoration-color: #00af00\">6</span>, <span style=\"color: #00af00; text-decoration-color: #00af00\">128</span>)           │         <span style=\"color: #00af00; text-decoration-color: #00af00\">295,040</span> │\n",
              "├──────────────────────────────────────┼─────────────────────────────┼─────────────────┤\n",
              "│ dropout_13 (<span style=\"color: #0087ff; text-decoration-color: #0087ff\">Dropout</span>)                 │ (<span style=\"color: #00d7ff; text-decoration-color: #00d7ff\">None</span>, <span style=\"color: #00af00; text-decoration-color: #00af00\">6</span>, <span style=\"color: #00af00; text-decoration-color: #00af00\">6</span>, <span style=\"color: #00af00; text-decoration-color: #00af00\">128</span>)           │               <span style=\"color: #00af00; text-decoration-color: #00af00\">0</span> │\n",
              "├──────────────────────────────────────┼─────────────────────────────┼─────────────────┤\n",
              "│ conv2d_18 (<span style=\"color: #0087ff; text-decoration-color: #0087ff\">Conv2D</span>)                   │ (<span style=\"color: #00d7ff; text-decoration-color: #00d7ff\">None</span>, <span style=\"color: #00af00; text-decoration-color: #00af00\">4</span>, <span style=\"color: #00af00; text-decoration-color: #00af00\">4</span>, <span style=\"color: #00af00; text-decoration-color: #00af00\">64</span>)            │          <span style=\"color: #00af00; text-decoration-color: #00af00\">73,792</span> │\n",
              "├──────────────────────────────────────┼─────────────────────────────┼─────────────────┤\n",
              "│ dropout_14 (<span style=\"color: #0087ff; text-decoration-color: #0087ff\">Dropout</span>)                 │ (<span style=\"color: #00d7ff; text-decoration-color: #00d7ff\">None</span>, <span style=\"color: #00af00; text-decoration-color: #00af00\">4</span>, <span style=\"color: #00af00; text-decoration-color: #00af00\">4</span>, <span style=\"color: #00af00; text-decoration-color: #00af00\">64</span>)            │               <span style=\"color: #00af00; text-decoration-color: #00af00\">0</span> │\n",
              "├──────────────────────────────────────┼─────────────────────────────┼─────────────────┤\n",
              "│ conv2d_19 (<span style=\"color: #0087ff; text-decoration-color: #0087ff\">Conv2D</span>)                   │ (<span style=\"color: #00d7ff; text-decoration-color: #00d7ff\">None</span>, <span style=\"color: #00af00; text-decoration-color: #00af00\">4</span>, <span style=\"color: #00af00; text-decoration-color: #00af00\">4</span>, <span style=\"color: #00af00; text-decoration-color: #00af00\">3</span>)             │             <span style=\"color: #00af00; text-decoration-color: #00af00\">195</span> │\n",
              "├──────────────────────────────────────┼─────────────────────────────┼─────────────────┤\n",
              "│ conv2d_transpose_24                  │ (<span style=\"color: #00d7ff; text-decoration-color: #00d7ff\">None</span>, <span style=\"color: #00af00; text-decoration-color: #00af00\">8</span>, <span style=\"color: #00af00; text-decoration-color: #00af00\">8</span>, <span style=\"color: #00af00; text-decoration-color: #00af00\">128</span>)           │           <span style=\"color: #00af00; text-decoration-color: #00af00\">3,584</span> │\n",
              "│ (<span style=\"color: #0087ff; text-decoration-color: #0087ff\">Conv2DTranspose</span>)                    │                             │                 │\n",
              "├──────────────────────────────────────┼─────────────────────────────┼─────────────────┤\n",
              "│ conv2d_transpose_25                  │ (<span style=\"color: #00d7ff; text-decoration-color: #00d7ff\">None</span>, <span style=\"color: #00af00; text-decoration-color: #00af00\">16</span>, <span style=\"color: #00af00; text-decoration-color: #00af00\">16</span>, <span style=\"color: #00af00; text-decoration-color: #00af00\">64</span>)          │          <span style=\"color: #00af00; text-decoration-color: #00af00\">73,792</span> │\n",
              "│ (<span style=\"color: #0087ff; text-decoration-color: #0087ff\">Conv2DTranspose</span>)                    │                             │                 │\n",
              "├──────────────────────────────────────┼─────────────────────────────┼─────────────────┤\n",
              "│ conv2d_transpose_26                  │ (<span style=\"color: #00d7ff; text-decoration-color: #00d7ff\">None</span>, <span style=\"color: #00af00; text-decoration-color: #00af00\">32</span>, <span style=\"color: #00af00; text-decoration-color: #00af00\">32</span>, <span style=\"color: #00af00; text-decoration-color: #00af00\">32</span>)          │          <span style=\"color: #00af00; text-decoration-color: #00af00\">18,464</span> │\n",
              "│ (<span style=\"color: #0087ff; text-decoration-color: #0087ff\">Conv2DTranspose</span>)                    │                             │                 │\n",
              "├──────────────────────────────────────┼─────────────────────────────┼─────────────────┤\n",
              "│ conv2d_transpose_27                  │ (<span style=\"color: #00d7ff; text-decoration-color: #00d7ff\">None</span>, <span style=\"color: #00af00; text-decoration-color: #00af00\">64</span>, <span style=\"color: #00af00; text-decoration-color: #00af00\">64</span>, <span style=\"color: #00af00; text-decoration-color: #00af00\">16</span>)          │           <span style=\"color: #00af00; text-decoration-color: #00af00\">4,624</span> │\n",
              "│ (<span style=\"color: #0087ff; text-decoration-color: #0087ff\">Conv2DTranspose</span>)                    │                             │                 │\n",
              "├──────────────────────────────────────┼─────────────────────────────┼─────────────────┤\n",
              "│ conv2d_transpose_28                  │ (<span style=\"color: #00d7ff; text-decoration-color: #00d7ff\">None</span>, <span style=\"color: #00af00; text-decoration-color: #00af00\">128</span>, <span style=\"color: #00af00; text-decoration-color: #00af00\">128</span>, <span style=\"color: #00af00; text-decoration-color: #00af00\">8</span>)         │           <span style=\"color: #00af00; text-decoration-color: #00af00\">1,160</span> │\n",
              "│ (<span style=\"color: #0087ff; text-decoration-color: #0087ff\">Conv2DTranspose</span>)                    │                             │                 │\n",
              "├──────────────────────────────────────┼─────────────────────────────┼─────────────────┤\n",
              "│ conv2d_transpose_29                  │ (<span style=\"color: #00d7ff; text-decoration-color: #00d7ff\">None</span>, <span style=\"color: #00af00; text-decoration-color: #00af00\">256</span>, <span style=\"color: #00af00; text-decoration-color: #00af00\">256</span>, <span style=\"color: #00af00; text-decoration-color: #00af00\">3</span>)         │             <span style=\"color: #00af00; text-decoration-color: #00af00\">219</span> │\n",
              "│ (<span style=\"color: #0087ff; text-decoration-color: #0087ff\">Conv2DTranspose</span>)                    │                             │                 │\n",
              "└──────────────────────────────────────┴─────────────────────────────┴─────────────────┘\n",
              "</pre>\n"
            ]
          },
          "metadata": {}
        },
        {
          "output_type": "display_data",
          "data": {
            "text/plain": [
              "\u001b[1m Total params: \u001b[0m\u001b[38;5;34m28,777,430\u001b[0m (109.78 MB)\n"
            ],
            "text/html": [
              "<pre style=\"white-space:pre;overflow-x:auto;line-height:normal;font-family:Menlo,'DejaVu Sans Mono',consolas,'Courier New',monospace\"><span style=\"font-weight: bold\"> Total params: </span><span style=\"color: #00af00; text-decoration-color: #00af00\">28,777,430</span> (109.78 MB)\n",
              "</pre>\n"
            ]
          },
          "metadata": {}
        },
        {
          "output_type": "display_data",
          "data": {
            "text/plain": [
              "\u001b[1m Trainable params: \u001b[0m\u001b[38;5;34m5,189,718\u001b[0m (19.80 MB)\n"
            ],
            "text/html": [
              "<pre style=\"white-space:pre;overflow-x:auto;line-height:normal;font-family:Menlo,'DejaVu Sans Mono',consolas,'Courier New',monospace\"><span style=\"font-weight: bold\"> Trainable params: </span><span style=\"color: #00af00; text-decoration-color: #00af00\">5,189,718</span> (19.80 MB)\n",
              "</pre>\n"
            ]
          },
          "metadata": {}
        },
        {
          "output_type": "display_data",
          "data": {
            "text/plain": [
              "\u001b[1m Non-trainable params: \u001b[0m\u001b[38;5;34m23,587,712\u001b[0m (89.98 MB)\n"
            ],
            "text/html": [
              "<pre style=\"white-space:pre;overflow-x:auto;line-height:normal;font-family:Menlo,'DejaVu Sans Mono',consolas,'Courier New',monospace\"><span style=\"font-weight: bold\"> Non-trainable params: </span><span style=\"color: #00af00; text-decoration-color: #00af00\">23,587,712</span> (89.98 MB)\n",
              "</pre>\n"
            ]
          },
          "metadata": {}
        }
      ]
    },
    {
      "cell_type": "markdown",
      "source": [
        "VAMOS EFETUAR O TREINAMENTO DO NOSSO MODELO"
      ],
      "metadata": {
        "id": "bRJ3eINHBYpl"
      }
    },
    {
      "cell_type": "code",
      "source": [
        "model.compile(optimizer = Adam(learning_rate = 0.00001),\n",
        "              #loss=SparseCategoricalCrossentropy(from_logits=False),\n",
        "\n",
        "              loss = 'sparse_categorical_crossentropy',\n",
        "              metrics = ['accuracy'])\n",
        "\n",
        "history = model.fit(x_train, y_train, batch_size = bathSize, epochs = 10, validation_data = (x_val, y_val))"
      ],
      "metadata": {
        "colab": {
          "base_uri": "https://localhost:8080/"
        },
        "id": "zvHq__LHBW18",
        "outputId": "02db98b5-0c7a-4e5b-c12c-ef142fd6d475"
      },
      "execution_count": null,
      "outputs": [
        {
          "output_type": "stream",
          "name": "stdout",
          "text": [
            "Epoch 1/10\n",
            "\u001b[1m8/8\u001b[0m \u001b[32m━━━━━━━━━━━━━━━━━━━━\u001b[0m\u001b[37m\u001b[0m \u001b[1m163s\u001b[0m 12s/step - accuracy: 0.3110 - loss: 3.0849 - val_accuracy: 0.5261 - val_loss: 1.9011\n",
            "Epoch 2/10\n",
            "\u001b[1m8/8\u001b[0m \u001b[32m━━━━━━━━━━━━━━━━━━━━\u001b[0m\u001b[37m\u001b[0m \u001b[1m145s\u001b[0m 13s/step - accuracy: 0.5532 - loss: 1.8048 - val_accuracy: 0.7158 - val_loss: 1.0897\n",
            "Epoch 3/10\n",
            "\u001b[1m1/8\u001b[0m \u001b[32m━━\u001b[0m\u001b[37m━━━━━━━━━━━━━━━━━━\u001b[0m \u001b[1m1:05\u001b[0m 9s/step - accuracy: 0.6902 - loss: 1.2069"
          ]
        }
      ]
    },
    {
      "cell_type": "markdown",
      "source": [
        "VERIFICANDO O TREINAMENTO DO MODELO"
      ],
      "metadata": {
        "id": "jw9d2FTgDoN9"
      }
    },
    {
      "cell_type": "code",
      "source": [
        "# Plotar a perda e precisão durante o treinamento\n",
        "plt.figure(figsize=(12, 4))\n",
        "\n",
        "# Gráfico da perda\n",
        "plt.subplot(1, 2, 1)\n",
        "plt.plot(history.history['loss'], label='Loss de Treino')\n",
        "plt.plot(history.history['val_loss'], label='Loss de Validação')\n",
        "plt.xlabel('Épocas')\n",
        "plt.ylabel('Loss')\n",
        "plt.legend()\n",
        "\n",
        "# Gráfico da acurácia\n",
        "plt.subplot(1, 2, 2)\n",
        "plt.plot(history.history['accuracy'], label='Acurácia de Treino')\n",
        "plt.plot(history.history['val_accuracy'], label='Acurácia de Validação')\n",
        "plt.xlabel('Épocas')\n",
        "plt.ylabel('Acurácia')\n",
        "plt.legend()\n",
        "\n",
        "plt.show()"
      ],
      "metadata": {
        "id": "-holfO2YDnVI"
      },
      "execution_count": null,
      "outputs": []
    },
    {
      "cell_type": "code",
      "source": [
        "import matplotlib.pyplot as plt\n",
        "import numpy as np\n",
        "import tensorflow as tf\n",
        "\n",
        "# Definir um mapa de cores para cada classe\n",
        "COLOR_MAP = np.array([\n",
        "    [255, 0, 0],   # Classe 0 - Vermelho\n",
        "    [0, 255, 0],   # Classe 1 - Verde\n",
        "    [0, 0, 255]    # Classe 2 - Azul\n",
        "])\n",
        "\n",
        "def create_mask(pred_mask):\n",
        "    # Escolha a classe com maior probabilidade para cada pixel\n",
        "    pred_mask = tf.argmax(pred_mask, axis=-1)\n",
        "    pred_mask = tf.squeeze(pred_mask, axis=0)  # Remover a dimensão do lote\n",
        "    pred_mask = pred_mask.numpy().astype(int)  # Converter para int\n",
        "\n",
        "    # Aplicar o mapa de cores a cada pixel da máscara\n",
        "    pred_mask_color = COLOR_MAP[pred_mask]\n",
        "    return pred_mask_color\n",
        "\n",
        "def show_predictions(input_imagens, input_mask):\n",
        "    pred_mask = model.predict(input_imagens[tf.newaxis, ...])\n",
        "    pred_mask_color = create_mask(pred_mask)\n",
        "\n",
        "    # Exibir a imagem original, a máscara original e a máscara prevista\n",
        "    fig, ax = plt.subplots(1, 3, figsize=(15, 5))\n",
        "    ax[0].imshow(input_imagens)\n",
        "    ax[0].set_title(\"Imagem Original\")\n",
        "    ax[1].imshow(input_mask)\n",
        "    ax[1].set_title(\"Máscara Original\")\n",
        "    ax[2].imshow(pred_mask_color)\n",
        "    ax[2].set_title(\"Máscara Prevista\")\n",
        "    for a in ax:\n",
        "        a.axis(\"off\")\n",
        "    plt.show()\n",
        "\n",
        "# Selecionando a primeira imagem e máscara do seu dataset\n",
        "test_image, test_mask = input_imagens[0], input_masks[0]\n",
        "\n",
        "# Chamando a função com a imagem e a máscara de teste\n",
        "show_predictions(test_image, test_mask)\n"
      ],
      "metadata": {
        "id": "Zcft0eRPJ0vF"
      },
      "execution_count": null,
      "outputs": []
    }
  ]
}